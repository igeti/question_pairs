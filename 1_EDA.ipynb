{
 "cells": [
  {
   "cell_type": "markdown",
   "metadata": {},
   "source": [
    "# Задача\n",
    "\n",
    "1. Разбить данные на обучающую и валидационную выборку\n",
    "\n",
    "2. Построить классификатор пар вопросов на дубликаты/не дубликаты.\n",
    "\n",
    "3. Для вопроса с qid=1 найти 100 самых похожих вопросов  среди вопросов с q_id=1-121424\n",
    "\n",
    "# Решение\n",
    "\n",
    "1. В данных обнаружено большое количество дубликатов вопросов, которые можно найти только по текстовому сравнению. Около 20к вопросов из 180к вcтречаются более 5 раз. Это достаточно критично на этапе построения валидации, так как цель работы получить модель, обобщающая способность которой должна рапространятся на тексты различного характера, то попадание одних и тех же вопросов и в трейн и в валидацию не позволит правильным образом сделать такую оценку.\n",
    "\n",
    "2. В качестве классификатора будут использованы два принципиально разных подхода:\n",
    "    * Классификатор вопросов на дубликаты/не дубликаты с помощью BERT. Благодаря тому, что на этапе претрейна языковой модели одной из задач была классификация пар предложений на предмет, является ли одно из них продолжением другого, BERT в своей архитектуре содержит возможность матчинга пар дубликат/не дубликат. Однако у такого подхода есть один большой минус - нельзя заранее предрасчитать эмбединги предложений, чтобы потом быстро находить дубликаты при помощи, например, cos similarity. Однако, его можно использовать как ранжирующую систему, после поиска ближайших какой-либо первоначальной моделью. \n",
    "    * Классифиикатор вопросов на основи сиамской сети с ELMO энкодингом. В таком подходе оба вопроса кандидата пропускаются через один и тот же претрейн блок ELMO, после чего по l1 расстоянию полученных эмбедингов 1 линеный слой решает, являются ли эти вопросы дубликатами. После обучения такой сети у нас получается fine-tune энкодер ELMO, с помощью которого можно заранее посчитать все эмбединги вопросов, и на этапе инференса пропускать в режиме большого батча пары таких вопросов через голову сети, либо же на этапе обучения использовать лоссы из metric learning, и после этого уже искать через, например, faiss.\n",
    "    \n",
    "    Для использования претрейн ELMO и BERT на английском языке используется моя кастомная обертка tf-hub моделей для [кераса](https://github.com/epoch8/keras_elmo_bert). Можно было использовать возможности tf-2.0, но он все еще в бете, там есть баги.\n",
    "    \n",
    "3. После обучения моделей, будет составлен датасет из вида вопрос с qid1 | все сотальные вопросы, по которым нужно провести поиск. Такой датасет пропущен через обученные модельки (ELMO, BERT). Топ 100 предсказаний по вероятности будут сохранены в соотвестующие директории в result "
   ]
  },
  {
   "cell_type": "code",
   "execution_count": 1,
   "metadata": {},
   "outputs": [],
   "source": [
    "#!nvidia-smi"
   ]
  },
  {
   "cell_type": "code",
   "execution_count": 2,
   "metadata": {},
   "outputs": [],
   "source": [
    "import sys\n",
    "sys.path.append('keras_elmo_bert/')\n",
    "\n",
    "import os\n",
    "#os.environ[\"CUDA_DEVICE_ORDER\"]=\"PCI_BUS_ID\"\n",
    "os.environ[\"CUDA_VISIBLE_DEVICES\"] = '0'"
   ]
  },
  {
   "cell_type": "code",
   "execution_count": 39,
   "metadata": {},
   "outputs": [],
   "source": [
    "%matplotlib inline\n",
    "from matplotlib import pyplot as plt\n",
    "import seaborn as sns\n",
    "\n",
    "import itertools\n",
    "import string\n",
    "import numpy as np \n",
    "import pandas as pd \n",
    "import tensorflow as tf\n",
    "import tensorflow_hub as hub\n",
    "import re\n",
    "\n",
    "from keras import backend as K\n",
    "import keras.layers as layers\n",
    "from keras.models import Model, load_model\n",
    "from keras.layers import Layer\n",
    "from keras.utils import Sequence\n",
    "from keras.layers import Activation, Conv1D, Dense, Dropout, Embedding, Flatten, GlobalMaxPool1D, LSTM, Dot, Lambda\n",
    "from keras.layers import Input, MaxPooling1D, GlobalAveragePooling1D, multiply, concatenate, Reshape\n",
    "from keras.layers import Bidirectional\n",
    "from keras.optimizers import Adam\n",
    "import keras.initializers as initializers\n",
    "import keras.regularizers as regularizers\n",
    "import keras.constraints as constraints\n",
    "\n",
    "\n",
    "from sklearn import preprocessing\n",
    "from sklearn.model_selection import train_test_split\n",
    "from sklearn.metrics import confusion_matrix, classification_report, accuracy_score\n",
    "from sklearn.utils import shuffle\n",
    "import pickle\n",
    "\n",
    "sess = tf.Session()\n",
    "\n",
    "# Reduce logging output.\n",
    "tf.logging.set_verbosity(tf.logging.ERROR)"
   ]
  },
  {
   "cell_type": "code",
   "execution_count": 5,
   "metadata": {},
   "outputs": [],
   "source": [
    "max_seq_length = 64\n",
    "bert_path = \"https://tfhub.dev/google/bert_cased_L-12_H-768_A-12/1\"\n",
    "elmo_path = \"https://tfhub.dev/google/elmo/2\""
   ]
  },
  {
   "cell_type": "markdown",
   "metadata": {},
   "source": [
    "# Load data and small EDA"
   ]
  },
  {
   "cell_type": "code",
   "execution_count": 6,
   "metadata": {},
   "outputs": [],
   "source": [
    "df = pd.read_csv('data/test_questions.csv')"
   ]
  },
  {
   "cell_type": "code",
   "execution_count": 7,
   "metadata": {},
   "outputs": [
    {
     "data": {
      "text/html": [
       "<div>\n",
       "<style scoped>\n",
       "    .dataframe tbody tr th:only-of-type {\n",
       "        vertical-align: middle;\n",
       "    }\n",
       "\n",
       "    .dataframe tbody tr th {\n",
       "        vertical-align: top;\n",
       "    }\n",
       "\n",
       "    .dataframe thead th {\n",
       "        text-align: right;\n",
       "    }\n",
       "</style>\n",
       "<table border=\"1\" class=\"dataframe\">\n",
       "  <thead>\n",
       "    <tr style=\"text-align: right;\">\n",
       "      <th></th>\n",
       "      <th>id</th>\n",
       "      <th>qid1</th>\n",
       "      <th>qid2</th>\n",
       "      <th>question1</th>\n",
       "      <th>question2</th>\n",
       "      <th>is_duplicate</th>\n",
       "    </tr>\n",
       "  </thead>\n",
       "  <tbody>\n",
       "    <tr>\n",
       "      <th>0</th>\n",
       "      <td>0</td>\n",
       "      <td>1</td>\n",
       "      <td>2</td>\n",
       "      <td>What is the step by step guide to invest in sh...</td>\n",
       "      <td>What is the step by step guide to invest in sh...</td>\n",
       "      <td>0</td>\n",
       "    </tr>\n",
       "    <tr>\n",
       "      <th>1</th>\n",
       "      <td>1</td>\n",
       "      <td>3</td>\n",
       "      <td>4</td>\n",
       "      <td>What is the story of Kohinoor (Koh-i-Noor) Dia...</td>\n",
       "      <td>What would happen if the Indian government sto...</td>\n",
       "      <td>0</td>\n",
       "    </tr>\n",
       "    <tr>\n",
       "      <th>2</th>\n",
       "      <td>2</td>\n",
       "      <td>5</td>\n",
       "      <td>6</td>\n",
       "      <td>How can I increase the speed of my internet co...</td>\n",
       "      <td>How can Internet speed be increased by hacking...</td>\n",
       "      <td>0</td>\n",
       "    </tr>\n",
       "    <tr>\n",
       "      <th>3</th>\n",
       "      <td>3</td>\n",
       "      <td>7</td>\n",
       "      <td>8</td>\n",
       "      <td>Why am I mentally very lonely? How can I solve...</td>\n",
       "      <td>Find the remainder when [math]23^{24}[/math] i...</td>\n",
       "      <td>0</td>\n",
       "    </tr>\n",
       "    <tr>\n",
       "      <th>4</th>\n",
       "      <td>4</td>\n",
       "      <td>9</td>\n",
       "      <td>10</td>\n",
       "      <td>Which one dissolve in water quikly sugar, salt...</td>\n",
       "      <td>Which fish would survive in salt water?</td>\n",
       "      <td>0</td>\n",
       "    </tr>\n",
       "  </tbody>\n",
       "</table>\n",
       "</div>"
      ],
      "text/plain": [
       "   id  qid1  qid2                                          question1  \\\n",
       "0   0     1     2  What is the step by step guide to invest in sh...   \n",
       "1   1     3     4  What is the story of Kohinoor (Koh-i-Noor) Dia...   \n",
       "2   2     5     6  How can I increase the speed of my internet co...   \n",
       "3   3     7     8  Why am I mentally very lonely? How can I solve...   \n",
       "4   4     9    10  Which one dissolve in water quikly sugar, salt...   \n",
       "\n",
       "                                           question2  is_duplicate  \n",
       "0  What is the step by step guide to invest in sh...             0  \n",
       "1  What would happen if the Indian government sto...             0  \n",
       "2  How can Internet speed be increased by hacking...             0  \n",
       "3  Find the remainder when [math]23^{24}[/math] i...             0  \n",
       "4            Which fish would survive in salt water?             0  "
      ]
     },
     "execution_count": 7,
     "metadata": {},
     "output_type": "execute_result"
    }
   ],
   "source": [
    "df.head()"
   ]
  },
  {
   "cell_type": "code",
   "execution_count": 8,
   "metadata": {},
   "outputs": [
    {
     "data": {
      "text/plain": [
       "<matplotlib.axes._subplots.AxesSubplot at 0x7f145464bac8>"
      ]
     },
     "execution_count": 8,
     "metadata": {},
     "output_type": "execute_result"
    },
    {
     "data": {
      "image/png": "[encoded data removed]",
      "text/plain": [
       "<Figure size 432x288 with 1 Axes>"
      ]
     },
     "metadata": {
      "needs_background": "light"
     },
     "output_type": "display_data"
    }
   ],
   "source": [
    "df.groupby(\"is_duplicate\")['id'].count().plot.bar()"
   ]
  },
  {
   "cell_type": "code",
   "execution_count": 9,
   "metadata": {},
   "outputs": [
    {
     "name": "stdout",
     "output_type": "stream",
     "text": [
      "Total number of question pairs for training: 99996\n",
      "Duplicate pairs: 37.26%\n",
      "Total number of questions in the training data: 198429\n",
      "Number of questions that appear multiple times: 1318\n",
      "\n"
     ]
    },
    {
     "data": {
      "image/png": "[encoded data removed]",
      "text/plain": [
       "<Figure size 864x360 with 1 Axes>"
      ]
     },
     "metadata": {
      "needs_background": "light"
     },
     "output_type": "display_data"
    }
   ],
   "source": [
    "print('Total number of question pairs for training: {}'.format(len(df)))\n",
    "print('Duplicate pairs: {}%'.format(round(df['is_duplicate'].mean()*100, 2)))\n",
    "qids = pd.Series(df['qid1'].tolist() + df['qid2'].tolist())\n",
    "print('Total number of questions in the training data: {}'.format(len(\n",
    "    np.unique(qids))))\n",
    "print('Number of questions that appear multiple times: {}'.format(np.sum(qids.value_counts() > 1)))\n",
    "\n",
    "plt.figure(figsize=(12, 5))\n",
    "plt.hist(qids.value_counts(), bins=10)\n",
    "plt.yscale('log', nonposy='clip')\n",
    "plt.title('Log-Histogram of question appearance counts')\n",
    "plt.xlabel('Number of occurences of question')\n",
    "plt.ylabel('Number of questions')\n",
    "print()"
   ]
  },
  {
   "cell_type": "code",
   "execution_count": 10,
   "metadata": {},
   "outputs": [
    {
     "data": {
      "text/html": [
       "<div>\n",
       "<style scoped>\n",
       "    .dataframe tbody tr th:only-of-type {\n",
       "        vertical-align: middle;\n",
       "    }\n",
       "\n",
       "    .dataframe tbody tr th {\n",
       "        vertical-align: top;\n",
       "    }\n",
       "\n",
       "    .dataframe thead th {\n",
       "        text-align: right;\n",
       "    }\n",
       "</style>\n",
       "<table border=\"1\" class=\"dataframe\">\n",
       "  <thead>\n",
       "    <tr style=\"text-align: right;\">\n",
       "      <th></th>\n",
       "      <th>id</th>\n",
       "      <th>qid1</th>\n",
       "      <th>qid2</th>\n",
       "      <th>question1</th>\n",
       "      <th>question2</th>\n",
       "      <th>is_duplicate</th>\n",
       "    </tr>\n",
       "  </thead>\n",
       "  <tbody>\n",
       "    <tr>\n",
       "      <th>0</th>\n",
       "      <td>0</td>\n",
       "      <td>1</td>\n",
       "      <td>2</td>\n",
       "      <td>What is the step by step guide to invest in share market in india?</td>\n",
       "      <td>What is the step by step guide to invest in share market?</td>\n",
       "      <td>0</td>\n",
       "    </tr>\n",
       "  </tbody>\n",
       "</table>\n",
       "</div>"
      ],
      "text/plain": [
       "   id  qid1  qid2  \\\n",
       "0   0     1     2   \n",
       "\n",
       "                                                            question1  \\\n",
       "0  What is the step by step guide to invest in share market in india?   \n",
       "\n",
       "                                                   question2  is_duplicate  \n",
       "0  What is the step by step guide to invest in share market?             0  "
      ]
     },
     "execution_count": 10,
     "metadata": {},
     "output_type": "execute_result"
    }
   ],
   "source": [
    "pd.set_option('max_colwidth', 200)\n",
    "df.query('qid1 == 1 or qid1 == 1')"
   ]
  },
  {
   "cell_type": "code",
   "execution_count": 11,
   "metadata": {},
   "outputs": [
    {
     "data": {
      "text/html": [
       "<div>\n",
       "<style scoped>\n",
       "    .dataframe tbody tr th:only-of-type {\n",
       "        vertical-align: middle;\n",
       "    }\n",
       "\n",
       "    .dataframe tbody tr th {\n",
       "        vertical-align: top;\n",
       "    }\n",
       "\n",
       "    .dataframe thead th {\n",
       "        text-align: right;\n",
       "    }\n",
       "</style>\n",
       "<table border=\"1\" class=\"dataframe\">\n",
       "  <thead>\n",
       "    <tr style=\"text-align: right;\">\n",
       "      <th></th>\n",
       "      <th>qid</th>\n",
       "      <th>questions</th>\n",
       "    </tr>\n",
       "  </thead>\n",
       "  <tbody>\n",
       "    <tr>\n",
       "      <th>0</th>\n",
       "      <td>1</td>\n",
       "      <td>What is the step by step guide to invest in share market in india?</td>\n",
       "    </tr>\n",
       "    <tr>\n",
       "      <th>1</th>\n",
       "      <td>3</td>\n",
       "      <td>What is the story of Kohinoor (Koh-i-Noor) Diamond?</td>\n",
       "    </tr>\n",
       "    <tr>\n",
       "      <th>2</th>\n",
       "      <td>5</td>\n",
       "      <td>How can I increase the speed of my internet connection while using a VPN?</td>\n",
       "    </tr>\n",
       "    <tr>\n",
       "      <th>3</th>\n",
       "      <td>7</td>\n",
       "      <td>Why am I mentally very lonely? How can I solve it?</td>\n",
       "    </tr>\n",
       "    <tr>\n",
       "      <th>4</th>\n",
       "      <td>9</td>\n",
       "      <td>Which one dissolve in water quikly sugar, salt, methane and carbon di oxide?</td>\n",
       "    </tr>\n",
       "  </tbody>\n",
       "</table>\n",
       "</div>"
      ],
      "text/plain": [
       "   qid  \\\n",
       "0    1   \n",
       "1    3   \n",
       "2    5   \n",
       "3    7   \n",
       "4    9   \n",
       "\n",
       "                                                                      questions  \n",
       "0            What is the step by step guide to invest in share market in india?  \n",
       "1                           What is the story of Kohinoor (Koh-i-Noor) Diamond?  \n",
       "2     How can I increase the speed of my internet connection while using a VPN?  \n",
       "3                            Why am I mentally very lonely? How can I solve it?  \n",
       "4  Which one dissolve in water quikly sugar, salt, methane and carbon di oxide?  "
      ]
     },
     "execution_count": 11,
     "metadata": {},
     "output_type": "execute_result"
    }
   ],
   "source": [
    "all_ques_df = pd.concat([df[['qid1','question1']].rename(columns={\"qid1\": \"qid\", \"question1\": \"questions\"}), \n",
    "                         df[['qid2','question2']].rename(columns={\"qid2\": \"qid\", \"question2\": \"questions\"})],\n",
    "                        axis =0, ignore_index=True)\n",
    "all_ques_df.head()"
   ]
  },
  {
   "cell_type": "code",
   "execution_count": 12,
   "metadata": {},
   "outputs": [],
   "source": [
    "all_ques_df = all_ques_df.drop_duplicates(subset = ['qid'])"
   ]
  },
  {
   "cell_type": "code",
   "execution_count": 13,
   "metadata": {},
   "outputs": [
    {
     "data": {
      "text/plain": [
       "(198429, 2)"
      ]
     },
     "execution_count": 13,
     "metadata": {},
     "output_type": "execute_result"
    }
   ],
   "source": [
    "all_ques_df.shape"
   ]
  },
  {
   "cell_type": "code",
   "execution_count": 14,
   "metadata": {},
   "outputs": [],
   "source": [
    "all_ques_df[\"num_of_words\"] = all_ques_df[\"questions\"].apply(lambda x : len(str(x).split()))"
   ]
  },
  {
   "cell_type": "code",
   "execution_count": 15,
   "metadata": {},
   "outputs": [
    {
     "data": {
      "image/png": "[encoded data removed]",
      "text/plain": [
       "<Figure size 864x432 with 1 Axes>"
      ]
     },
     "metadata": {
      "needs_background": "light"
     },
     "output_type": "display_data"
    }
   ],
   "source": [
    "cnt_srs = all_ques_df['num_of_words'].value_counts()\n",
    "\n",
    "plt.figure(figsize=(12,6))\n",
    "sns.barplot(cnt_srs.index, cnt_srs.values, alpha=0.8)\n",
    "plt.ylabel('Number of Occurrences', fontsize=12)\n",
    "plt.xlabel('Number of words in the question', fontsize=12)\n",
    "plt.xticks(rotation='vertical')\n",
    "plt.show()"
   ]
  },
  {
   "cell_type": "markdown",
   "metadata": {},
   "source": [
    "## Let's look for duplicates in the text"
   ]
  },
  {
   "cell_type": "code",
   "execution_count": 16,
   "metadata": {},
   "outputs": [],
   "source": [
    "dup_df = all_ques_df[all_ques_df.duplicated(subset = ['questions'], keep =False)].sort_values('questions')"
   ]
  },
  {
   "cell_type": "code",
   "execution_count": 17,
   "metadata": {},
   "outputs": [
    {
     "data": {
      "text/html": [
       "<div>\n",
       "<style scoped>\n",
       "    .dataframe tbody tr th:only-of-type {\n",
       "        vertical-align: middle;\n",
       "    }\n",
       "\n",
       "    .dataframe tbody tr th {\n",
       "        vertical-align: top;\n",
       "    }\n",
       "\n",
       "    .dataframe thead th {\n",
       "        text-align: right;\n",
       "    }\n",
       "</style>\n",
       "<table border=\"1\" class=\"dataframe\">\n",
       "  <thead>\n",
       "    <tr style=\"text-align: right;\">\n",
       "      <th></th>\n",
       "      <th>qid</th>\n",
       "      <th>questions</th>\n",
       "      <th>num_of_words</th>\n",
       "    </tr>\n",
       "  </thead>\n",
       "  <tbody>\n",
       "    <tr>\n",
       "      <th>197203</th>\n",
       "      <td>192938</td>\n",
       "      <td>\"How do I get rid of acne and acne…?</td>\n",
       "      <td>9</td>\n",
       "    </tr>\n",
       "    <tr>\n",
       "      <th>6300</th>\n",
       "      <td>12590</td>\n",
       "      <td>\"How do I get rid of acne and acne…?</td>\n",
       "      <td>9</td>\n",
       "    </tr>\n",
       "    <tr>\n",
       "      <th>38558</th>\n",
       "      <td>76817</td>\n",
       "      <td>\"How do I get rid of acne and acne…?</td>\n",
       "      <td>9</td>\n",
       "    </tr>\n",
       "    <tr>\n",
       "      <th>74214</th>\n",
       "      <td>147478</td>\n",
       "      <td>\"How to make money?\"</td>\n",
       "      <td>4</td>\n",
       "    </tr>\n",
       "    <tr>\n",
       "      <th>71049</th>\n",
       "      <td>141209</td>\n",
       "      <td>\"How to make money?\"</td>\n",
       "      <td>4</td>\n",
       "    </tr>\n",
       "    <tr>\n",
       "      <th>26496</th>\n",
       "      <td>52838</td>\n",
       "      <td>\"How to move pre installed apps to SD card?\"</td>\n",
       "      <td>9</td>\n",
       "    </tr>\n",
       "    <tr>\n",
       "      <th>9501</th>\n",
       "      <td>18974</td>\n",
       "      <td>\"How to move pre installed apps to SD card?\"</td>\n",
       "      <td>9</td>\n",
       "    </tr>\n",
       "    <tr>\n",
       "      <th>25420</th>\n",
       "      <td>50699</td>\n",
       "      <td>\"How to move pre installed apps to SD card?\"</td>\n",
       "      <td>9</td>\n",
       "    </tr>\n",
       "    <tr>\n",
       "      <th>17844</th>\n",
       "      <td>35609</td>\n",
       "      <td>\"What has passed is past\" vs \"What passed is past\", which one is correct?</td>\n",
       "      <td>14</td>\n",
       "    </tr>\n",
       "    <tr>\n",
       "      <th>67333</th>\n",
       "      <td>133866</td>\n",
       "      <td>\"What has passed is past\" vs \"What passed is past\", which one is correct?</td>\n",
       "      <td>14</td>\n",
       "    </tr>\n",
       "  </tbody>\n",
       "</table>\n",
       "</div>"
      ],
      "text/plain": [
       "           qid  \\\n",
       "197203  192938   \n",
       "6300     12590   \n",
       "38558    76817   \n",
       "74214   147478   \n",
       "71049   141209   \n",
       "26496    52838   \n",
       "9501     18974   \n",
       "25420    50699   \n",
       "17844    35609   \n",
       "67333   133866   \n",
       "\n",
       "                                                                        questions  \\\n",
       "197203                                       \"How do I get rid of acne and acne…?   \n",
       "6300                                         \"How do I get rid of acne and acne…?   \n",
       "38558                                        \"How do I get rid of acne and acne…?   \n",
       "74214                                                        \"How to make money?\"   \n",
       "71049                                                        \"How to make money?\"   \n",
       "26496                                \"How to move pre installed apps to SD card?\"   \n",
       "9501                                 \"How to move pre installed apps to SD card?\"   \n",
       "25420                                \"How to move pre installed apps to SD card?\"   \n",
       "17844   \"What has passed is past\" vs \"What passed is past\", which one is correct?   \n",
       "67333   \"What has passed is past\" vs \"What passed is past\", which one is correct?   \n",
       "\n",
       "        num_of_words  \n",
       "197203             9  \n",
       "6300               9  \n",
       "38558              9  \n",
       "74214              4  \n",
       "71049              4  \n",
       "26496              9  \n",
       "9501               9  \n",
       "25420              9  \n",
       "17844             14  \n",
       "67333             14  "
      ]
     },
     "execution_count": 17,
     "metadata": {},
     "output_type": "execute_result"
    }
   ],
   "source": [
    "dup_df.head(10)"
   ]
  },
  {
   "cell_type": "markdown",
   "metadata": {},
   "source": [
    "Очень много дубликатов не по айди а по тексту. Обьединим все дубликаты в один айди. Это нескажется на процессе обучения, но необходимо для настрйоки корректной валидации. (Одни и те же вопросы не должны оставаться и в трейне и в тесте)"
   ]
  },
  {
   "cell_type": "code",
   "execution_count": 18,
   "metadata": {},
   "outputs": [],
   "source": [
    "all_ques_df['new_qid'] = all_ques_df.groupby('questions').qid.transform(lambda x: x.min())"
   ]
  },
  {
   "cell_type": "code",
   "execution_count": 19,
   "metadata": {},
   "outputs": [],
   "source": [
    "dup_df = all_ques_df[all_ques_df.duplicated(subset = ['questions'], keep =False)].sort_values('questions')"
   ]
  },
  {
   "cell_type": "code",
   "execution_count": 20,
   "metadata": {},
   "outputs": [
    {
     "data": {
      "text/html": [
       "<div>\n",
       "<style scoped>\n",
       "    .dataframe tbody tr th:only-of-type {\n",
       "        vertical-align: middle;\n",
       "    }\n",
       "\n",
       "    .dataframe tbody tr th {\n",
       "        vertical-align: top;\n",
       "    }\n",
       "\n",
       "    .dataframe thead th {\n",
       "        text-align: right;\n",
       "    }\n",
       "</style>\n",
       "<table border=\"1\" class=\"dataframe\">\n",
       "  <thead>\n",
       "    <tr style=\"text-align: right;\">\n",
       "      <th></th>\n",
       "      <th>qid</th>\n",
       "      <th>questions</th>\n",
       "      <th>num_of_words</th>\n",
       "      <th>new_qid</th>\n",
       "    </tr>\n",
       "  </thead>\n",
       "  <tbody>\n",
       "    <tr>\n",
       "      <th>197203</th>\n",
       "      <td>192938</td>\n",
       "      <td>\"How do I get rid of acne and acne…?</td>\n",
       "      <td>9</td>\n",
       "      <td>12590</td>\n",
       "    </tr>\n",
       "    <tr>\n",
       "      <th>6300</th>\n",
       "      <td>12590</td>\n",
       "      <td>\"How do I get rid of acne and acne…?</td>\n",
       "      <td>9</td>\n",
       "      <td>12590</td>\n",
       "    </tr>\n",
       "    <tr>\n",
       "      <th>38558</th>\n",
       "      <td>76817</td>\n",
       "      <td>\"How do I get rid of acne and acne…?</td>\n",
       "      <td>9</td>\n",
       "      <td>12590</td>\n",
       "    </tr>\n",
       "    <tr>\n",
       "      <th>74214</th>\n",
       "      <td>147478</td>\n",
       "      <td>\"How to make money?\"</td>\n",
       "      <td>4</td>\n",
       "      <td>141209</td>\n",
       "    </tr>\n",
       "    <tr>\n",
       "      <th>71049</th>\n",
       "      <td>141209</td>\n",
       "      <td>\"How to make money?\"</td>\n",
       "      <td>4</td>\n",
       "      <td>141209</td>\n",
       "    </tr>\n",
       "  </tbody>\n",
       "</table>\n",
       "</div>"
      ],
      "text/plain": [
       "           qid                             questions  num_of_words  new_qid\n",
       "197203  192938  \"How do I get rid of acne and acne…?             9    12590\n",
       "6300     12590  \"How do I get rid of acne and acne…?             9    12590\n",
       "38558    76817  \"How do I get rid of acne and acne…?             9    12590\n",
       "74214   147478                  \"How to make money?\"             4   141209\n",
       "71049   141209                  \"How to make money?\"             4   141209"
      ]
     },
     "execution_count": 20,
     "metadata": {},
     "output_type": "execute_result"
    }
   ],
   "source": [
    "dup_df.head()"
   ]
  },
  {
   "cell_type": "code",
   "execution_count": 21,
   "metadata": {},
   "outputs": [],
   "source": [
    "map_dict = dict(zip(*[all_ques_df['qid'].values, all_ques_df['new_qid'].values]))"
   ]
  },
  {
   "cell_type": "code",
   "execution_count": 22,
   "metadata": {},
   "outputs": [
    {
     "data": {
      "text/plain": [
       "2568     33\n",
       "4066     29\n",
       "32213    25\n",
       "12892    21\n",
       "11455    20\n",
       "Name: new_qid, dtype: int64"
      ]
     },
     "execution_count": 22,
     "metadata": {},
     "output_type": "execute_result"
    }
   ],
   "source": [
    "dup_df['new_qid'].value_counts().head(5)"
   ]
  },
  {
   "cell_type": "markdown",
   "metadata": {},
   "source": [
    "Посмотрим на самый часто втречаемый вопрос"
   ]
  },
  {
   "cell_type": "code",
   "execution_count": 23,
   "metadata": {},
   "outputs": [],
   "source": [
    "df[['qid1_new', 'qid2_new']] = df[['qid1', 'qid2']].applymap(lambda x: map_dict.get(x, x))"
   ]
  },
  {
   "cell_type": "code",
   "execution_count": 24,
   "metadata": {},
   "outputs": [
    {
     "data": {
      "text/html": [
       "<div>\n",
       "<style scoped>\n",
       "    .dataframe tbody tr th:only-of-type {\n",
       "        vertical-align: middle;\n",
       "    }\n",
       "\n",
       "    .dataframe tbody tr th {\n",
       "        vertical-align: top;\n",
       "    }\n",
       "\n",
       "    .dataframe thead th {\n",
       "        text-align: right;\n",
       "    }\n",
       "</style>\n",
       "<table border=\"1\" class=\"dataframe\">\n",
       "  <thead>\n",
       "    <tr style=\"text-align: right;\">\n",
       "      <th></th>\n",
       "      <th>id</th>\n",
       "      <th>qid1</th>\n",
       "      <th>qid2</th>\n",
       "      <th>question1</th>\n",
       "      <th>question2</th>\n",
       "      <th>is_duplicate</th>\n",
       "      <th>qid1_new</th>\n",
       "      <th>qid2_new</th>\n",
       "    </tr>\n",
       "  </thead>\n",
       "  <tbody>\n",
       "    <tr>\n",
       "      <th>5731</th>\n",
       "      <td>5731</td>\n",
       "      <td>11454</td>\n",
       "      <td>11455</td>\n",
       "      <td>How can I lose 10 Kilos?</td>\n",
       "      <td>What are the best was to lose weight?</td>\n",
       "      <td>1</td>\n",
       "      <td>11454</td>\n",
       "      <td>11455</td>\n",
       "    </tr>\n",
       "    <tr>\n",
       "      <th>6542</th>\n",
       "      <td>6542</td>\n",
       "      <td>13071</td>\n",
       "      <td>13072</td>\n",
       "      <td>What are the best way of loose the weight?</td>\n",
       "      <td>What are the best was to lose weight?</td>\n",
       "      <td>1</td>\n",
       "      <td>2722</td>\n",
       "      <td>11455</td>\n",
       "    </tr>\n",
       "    <tr>\n",
       "      <th>8969</th>\n",
       "      <td>8969</td>\n",
       "      <td>17914</td>\n",
       "      <td>17915</td>\n",
       "      <td>What are the best ways to lose weight, especially around your core?</td>\n",
       "      <td>What are the best was to lose weight?</td>\n",
       "      <td>1</td>\n",
       "      <td>17914</td>\n",
       "      <td>11455</td>\n",
       "    </tr>\n",
       "    <tr>\n",
       "      <th>12197</th>\n",
       "      <td>12197</td>\n",
       "      <td>24352</td>\n",
       "      <td>24353</td>\n",
       "      <td>How can I lose weight loss?</td>\n",
       "      <td>What are the best was to lose weight?</td>\n",
       "      <td>1</td>\n",
       "      <td>19742</td>\n",
       "      <td>11455</td>\n",
       "    </tr>\n",
       "    <tr>\n",
       "      <th>16643</th>\n",
       "      <td>16643</td>\n",
       "      <td>33216</td>\n",
       "      <td>33217</td>\n",
       "      <td>What are the best was to lose weight?</td>\n",
       "      <td>How do I lose 20-30 kg?</td>\n",
       "      <td>1</td>\n",
       "      <td>11455</td>\n",
       "      <td>33217</td>\n",
       "    </tr>\n",
       "    <tr>\n",
       "      <th>17152</th>\n",
       "      <td>17152</td>\n",
       "      <td>34231</td>\n",
       "      <td>34232</td>\n",
       "      <td>What are the best was to lose weight?</td>\n",
       "      <td>How can I efficiently lose weight?</td>\n",
       "      <td>1</td>\n",
       "      <td>11455</td>\n",
       "      <td>4533</td>\n",
       "    </tr>\n",
       "    <tr>\n",
       "      <th>19680</th>\n",
       "      <td>19680</td>\n",
       "      <td>39271</td>\n",
       "      <td>39272</td>\n",
       "      <td>How do I lose 30 pounds?</td>\n",
       "      <td>What are the best was to lose weight?</td>\n",
       "      <td>1</td>\n",
       "      <td>39271</td>\n",
       "      <td>11455</td>\n",
       "    </tr>\n",
       "    <tr>\n",
       "      <th>20398</th>\n",
       "      <td>20398</td>\n",
       "      <td>40698</td>\n",
       "      <td>40699</td>\n",
       "      <td>How do i lose weight?</td>\n",
       "      <td>What are the best was to lose weight?</td>\n",
       "      <td>1</td>\n",
       "      <td>3613</td>\n",
       "      <td>11455</td>\n",
       "    </tr>\n",
       "    <tr>\n",
       "      <th>23234</th>\n",
       "      <td>23234</td>\n",
       "      <td>46355</td>\n",
       "      <td>46356</td>\n",
       "      <td>What are some good ways to lose weight?</td>\n",
       "      <td>What are the best was to lose weight?</td>\n",
       "      <td>1</td>\n",
       "      <td>46355</td>\n",
       "      <td>11455</td>\n",
       "    </tr>\n",
       "    <tr>\n",
       "      <th>24021</th>\n",
       "      <td>24021</td>\n",
       "      <td>47922</td>\n",
       "      <td>47923</td>\n",
       "      <td>What is the best way to reduce body weight?</td>\n",
       "      <td>What are the best was to lose weight?</td>\n",
       "      <td>1</td>\n",
       "      <td>44059</td>\n",
       "      <td>11455</td>\n",
       "    </tr>\n",
       "    <tr>\n",
       "      <th>25338</th>\n",
       "      <td>25338</td>\n",
       "      <td>50537</td>\n",
       "      <td>50538</td>\n",
       "      <td>What are the best was to lose weight?</td>\n",
       "      <td>What are the best remedies to lose weight?</td>\n",
       "      <td>0</td>\n",
       "      <td>11455</td>\n",
       "      <td>50538</td>\n",
       "    </tr>\n",
       "    <tr>\n",
       "      <th>26164</th>\n",
       "      <td>26164</td>\n",
       "      <td>52178</td>\n",
       "      <td>52179</td>\n",
       "      <td>What is the best way to lose weight and not gain it back?</td>\n",
       "      <td>What are the best was to lose weight?</td>\n",
       "      <td>1</td>\n",
       "      <td>15269</td>\n",
       "      <td>11455</td>\n",
       "    </tr>\n",
       "    <tr>\n",
       "      <th>44752</th>\n",
       "      <td>44752</td>\n",
       "      <td>89114</td>\n",
       "      <td>89115</td>\n",
       "      <td>Can you offer me any advice on how to lose weight?</td>\n",
       "      <td>What are the best was to lose weight?</td>\n",
       "      <td>1</td>\n",
       "      <td>10483</td>\n",
       "      <td>11455</td>\n",
       "    </tr>\n",
       "    <tr>\n",
       "      <th>47610</th>\n",
       "      <td>47610</td>\n",
       "      <td>94791</td>\n",
       "      <td>94792</td>\n",
       "      <td>I'm 12 and at 60 kg and about 144 cm how do I lose weight?</td>\n",
       "      <td>What are the best was to lose weight?</td>\n",
       "      <td>1</td>\n",
       "      <td>8785</td>\n",
       "      <td>11455</td>\n",
       "    </tr>\n",
       "    <tr>\n",
       "      <th>54053</th>\n",
       "      <td>54053</td>\n",
       "      <td>107561</td>\n",
       "      <td>107562</td>\n",
       "      <td>What's the best plan to lose weight?</td>\n",
       "      <td>What are the best was to lose weight?</td>\n",
       "      <td>1</td>\n",
       "      <td>5394</td>\n",
       "      <td>11455</td>\n",
       "    </tr>\n",
       "    <tr>\n",
       "      <th>63683</th>\n",
       "      <td>63683</td>\n",
       "      <td>126641</td>\n",
       "      <td>126642</td>\n",
       "      <td>I am ugly and fat, how to lose weight?</td>\n",
       "      <td>What are the best was to lose weight?</td>\n",
       "      <td>1</td>\n",
       "      <td>17537</td>\n",
       "      <td>11455</td>\n",
       "    </tr>\n",
       "    <tr>\n",
       "      <th>72468</th>\n",
       "      <td>72468</td>\n",
       "      <td>144020</td>\n",
       "      <td>144021</td>\n",
       "      <td>What are the best was to lose weight?</td>\n",
       "      <td>How can I lose post marriage weight?</td>\n",
       "      <td>1</td>\n",
       "      <td>11455</td>\n",
       "      <td>10723</td>\n",
       "    </tr>\n",
       "    <tr>\n",
       "      <th>73139</th>\n",
       "      <td>73139</td>\n",
       "      <td>145348</td>\n",
       "      <td>145349</td>\n",
       "      <td>How can I slowly lose weight?</td>\n",
       "      <td>What are the best was to lose weight?</td>\n",
       "      <td>1</td>\n",
       "      <td>19743</td>\n",
       "      <td>11455</td>\n",
       "    </tr>\n",
       "    <tr>\n",
       "      <th>73270</th>\n",
       "      <td>73270</td>\n",
       "      <td>145605</td>\n",
       "      <td>145606</td>\n",
       "      <td>What are the best things to do when working on losing weight?</td>\n",
       "      <td>What are the best was to lose weight?</td>\n",
       "      <td>1</td>\n",
       "      <td>5395</td>\n",
       "      <td>11455</td>\n",
       "    </tr>\n",
       "    <tr>\n",
       "      <th>79910</th>\n",
       "      <td>79910</td>\n",
       "      <td>158743</td>\n",
       "      <td>158744</td>\n",
       "      <td>How do I suck it up and lose weight?</td>\n",
       "      <td>What are the best was to lose weight?</td>\n",
       "      <td>1</td>\n",
       "      <td>3614</td>\n",
       "      <td>11455</td>\n",
       "    </tr>\n",
       "  </tbody>\n",
       "</table>\n",
       "</div>"
      ],
      "text/plain": [
       "          id    qid1    qid2  \\\n",
       "5731    5731   11454   11455   \n",
       "6542    6542   13071   13072   \n",
       "8969    8969   17914   17915   \n",
       "12197  12197   24352   24353   \n",
       "16643  16643   33216   33217   \n",
       "17152  17152   34231   34232   \n",
       "19680  19680   39271   39272   \n",
       "20398  20398   40698   40699   \n",
       "23234  23234   46355   46356   \n",
       "24021  24021   47922   47923   \n",
       "25338  25338   50537   50538   \n",
       "26164  26164   52178   52179   \n",
       "44752  44752   89114   89115   \n",
       "47610  47610   94791   94792   \n",
       "54053  54053  107561  107562   \n",
       "63683  63683  126641  126642   \n",
       "72468  72468  144020  144021   \n",
       "73139  73139  145348  145349   \n",
       "73270  73270  145605  145606   \n",
       "79910  79910  158743  158744   \n",
       "\n",
       "                                                                 question1  \\\n",
       "5731                                              How can I lose 10 Kilos?   \n",
       "6542                            What are the best way of loose the weight?   \n",
       "8969   What are the best ways to lose weight, especially around your core?   \n",
       "12197                                          How can I lose weight loss?   \n",
       "16643                                What are the best was to lose weight?   \n",
       "17152                                What are the best was to lose weight?   \n",
       "19680                                             How do I lose 30 pounds?   \n",
       "20398                                                How do i lose weight?   \n",
       "23234                              What are some good ways to lose weight?   \n",
       "24021                          What is the best way to reduce body weight?   \n",
       "25338                                What are the best was to lose weight?   \n",
       "26164            What is the best way to lose weight and not gain it back?   \n",
       "44752                   Can you offer me any advice on how to lose weight?   \n",
       "47610           I'm 12 and at 60 kg and about 144 cm how do I lose weight?   \n",
       "54053                                 What's the best plan to lose weight?   \n",
       "63683                               I am ugly and fat, how to lose weight?   \n",
       "72468                                What are the best was to lose weight?   \n",
       "73139                                        How can I slowly lose weight?   \n",
       "73270        What are the best things to do when working on losing weight?   \n",
       "79910                                 How do I suck it up and lose weight?   \n",
       "\n",
       "                                        question2  is_duplicate  qid1_new  \\\n",
       "5731        What are the best was to lose weight?             1     11454   \n",
       "6542        What are the best was to lose weight?             1      2722   \n",
       "8969        What are the best was to lose weight?             1     17914   \n",
       "12197       What are the best was to lose weight?             1     19742   \n",
       "16643                     How do I lose 20-30 kg?             1     11455   \n",
       "17152          How can I efficiently lose weight?             1     11455   \n",
       "19680       What are the best was to lose weight?             1     39271   \n",
       "20398       What are the best was to lose weight?             1      3613   \n",
       "23234       What are the best was to lose weight?             1     46355   \n",
       "24021       What are the best was to lose weight?             1     44059   \n",
       "25338  What are the best remedies to lose weight?             0     11455   \n",
       "26164       What are the best was to lose weight?             1     15269   \n",
       "44752       What are the best was to lose weight?             1     10483   \n",
       "47610       What are the best was to lose weight?             1      8785   \n",
       "54053       What are the best was to lose weight?             1      5394   \n",
       "63683       What are the best was to lose weight?             1     17537   \n",
       "72468        How can I lose post marriage weight?             1     11455   \n",
       "73139       What are the best was to lose weight?             1     19743   \n",
       "73270       What are the best was to lose weight?             1      5395   \n",
       "79910       What are the best was to lose weight?             1      3614   \n",
       "\n",
       "       qid2_new  \n",
       "5731      11455  \n",
       "6542      11455  \n",
       "8969      11455  \n",
       "12197     11455  \n",
       "16643     33217  \n",
       "17152      4533  \n",
       "19680     11455  \n",
       "20398     11455  \n",
       "23234     11455  \n",
       "24021     11455  \n",
       "25338     50538  \n",
       "26164     11455  \n",
       "44752     11455  \n",
       "47610     11455  \n",
       "54053     11455  \n",
       "63683     11455  \n",
       "72468     10723  \n",
       "73139     11455  \n",
       "73270     11455  \n",
       "79910     11455  "
      ]
     },
     "execution_count": 24,
     "metadata": {},
     "output_type": "execute_result"
    }
   ],
   "source": [
    "df.query(\"qid1_new == 11455 or qid2_new == 11455\")"
   ]
  },
  {
   "cell_type": "code",
   "execution_count": 25,
   "metadata": {},
   "outputs": [
    {
     "name": "stdout",
     "output_type": "stream",
     "text": [
      "Total number of question pairs for training: 99996\n",
      "Duplicate pairs: 37.26%\n",
      "Total number of questions in the training data: 164694\n",
      "Number of questions that appear multiple times: 20277\n",
      "\n"
     ]
    },
    {
     "data": {
      "image/png": "[encoded data removed]",
      "text/plain": [
       "<Figure size 864x360 with 1 Axes>"
      ]
     },
     "metadata": {
      "needs_background": "light"
     },
     "output_type": "display_data"
    }
   ],
   "source": [
    "print('Total number of question pairs for training: {}'.format(len(df)))\n",
    "print('Duplicate pairs: {}%'.format(round(df['is_duplicate'].mean()*100, 2)))\n",
    "qids = pd.Series(df['qid1_new'].tolist() + df['qid2_new'].tolist())\n",
    "print('Total number of questions in the training data: {}'.format(len(\n",
    "    np.unique(qids))))\n",
    "print('Number of questions that appear multiple times: {}'.format(np.sum(qids.value_counts() > 1)))\n",
    "\n",
    "plt.figure(figsize=(12, 5))\n",
    "plt.hist(qids.value_counts(), bins=10)\n",
    "plt.yscale('log', nonposy='clip')\n",
    "plt.title('Log-Histogram of question appearance counts')\n",
    "plt.xlabel('Number of occurences of question')\n",
    "plt.ylabel('Number of questions')\n",
    "print()"
   ]
  }
 ],
 "metadata": {
  "kernelspec": {
   "display_name": "Python 3",
   "language": "python",
   "name": "python3"
  },
  "language_info": {
   "codemirror_mode": {
    "name": "ipython",
    "version": 3
   },
   "file_extension": ".py",
   "mimetype": "text/x-python",
   "name": "python",
   "nbconvert_exporter": "python",
   "pygments_lexer": "ipython3",
   "version": "3.6.7"
  }
 },
 "nbformat": 4,
 "nbformat_minor": 2
}
